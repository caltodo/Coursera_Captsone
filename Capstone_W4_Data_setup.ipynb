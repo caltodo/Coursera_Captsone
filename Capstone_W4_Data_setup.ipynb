{
 "cells": [
  {
   "cell_type": "markdown",
   "metadata": {},
   "source": [
    "# IBM Capstone Week 4\n",
    "## Battle of the Neighborhoods\n",
    "### Calvin Todorovich 6/4/20\n",
    "\n",
    "##### Presentation is important"
   ]
  },
  {
   "cell_type": "markdown",
   "metadata": {},
   "source": [
    "### Data\n",
    "\n",
    "I will be using foursquare api to get venues and their attributes. Foursquare endpoints that I will use include venue name, venue categories, location, and popular to determine an optimal spot to open a restaurant. \n",
    "\n",
    "I intend to input a category, like 'Afghan Restaurant' in order to partition data between all restaurants of the inputted category and all other types restaurants, as well as cluster based on the attributes above. This process should result in a clustered map, like we have done in the prior weeks, with highlights for restaurants of your type too.  "
   ]
  }
 ],
 "metadata": {
  "language_info": {
   "codemirror_mode": {
    "name": "ipython",
    "version": 3
   },
   "file_extension": ".py",
   "mimetype": "text/x-python",
   "name": "python",
   "nbconvert_exporter": "python",
   "pygments_lexer": "ipython3",
   "version": "3.7.6-final"
  },
  "orig_nbformat": 2,
  "kernelspec": {
   "name": "python3",
   "display_name": "Python 3"
  }
 },
 "nbformat": 4,
 "nbformat_minor": 2
}