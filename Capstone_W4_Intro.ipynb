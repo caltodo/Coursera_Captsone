{
 "cells": [
  {
   "cell_type": "markdown",
   "metadata": {},
   "source": [
    "# IBM Capstone Week 4\n",
    "## Battle of the Neighborhoods\n",
    "### Calvin Todorovich 6/4/20\n"
   ]
  },
  {
   "cell_type": "markdown",
   "metadata": {},
   "source": [
    "### Introduction\n",
    "\n",
    "The business problem I decided to analyze was the optimal spot to open a restaurant in Toronto, Canada. \n",
    "\n",
    "If someone were to open a restaurant, proximity to competing restuarants, number of potential customers (population), and parking could be good predictors for how well a restaurant will do in each neighborhood. \n",
    "\n",
    "According to tripsavvy.com, Toronto has an extremely diverse restaurant scene, with many different cultures comprising it. Because of this, I want to have input from the user for what type of restaurant they want to open. \n",
    "\n",
    "The user will input what 'Category' the potential restaurant will be, i.e. 'Pizza' or 'Chinese', and the clustered map will highlight restaurants of that type with one color, and other restaurants in another color. This will give us a map showing high competition areas for restaurants of the specified category, and therefore show the restaurant opener areas they should avoid. \n",
    "\n",
    "\n",
    "(https://www.tripsavvy.com/toronto-a-great-city-for-foodies-3251279)"
   ]
  }
 ],
 "metadata": {
  "language_info": {
   "codemirror_mode": {
    "name": "ipython",
    "version": 3
   },
   "file_extension": ".py",
   "mimetype": "text/x-python",
   "name": "python",
   "nbconvert_exporter": "python",
   "pygments_lexer": "ipython3",
   "version": "3.7.6-final"
  },
  "orig_nbformat": 2,
  "kernelspec": {
   "name": "python3",
   "display_name": "Python 3"
  }
 },
 "nbformat": 4,
 "nbformat_minor": 2
}